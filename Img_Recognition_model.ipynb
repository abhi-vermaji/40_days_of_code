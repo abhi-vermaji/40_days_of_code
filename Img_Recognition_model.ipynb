{
  "nbformat": 4,
  "nbformat_minor": 0,
  "metadata": {
    "colab": {
      "name": "Img Recognition model.ipynb",
      "provenance": [],
      "authorship_tag": "ABX9TyOEajHMEY5Hs5VBdc3LRAuM",
      "include_colab_link": true
    },
    "kernelspec": {
      "name": "python3",
      "display_name": "Python 3"
    }
  },
  "cells": [
    {
      "cell_type": "markdown",
      "metadata": {
        "id": "view-in-github",
        "colab_type": "text"
      },
      "source": [
        "<a href=\"https://colab.research.google.com/github/abhi-vermaji/40_days_of_code/blob/master/Img_Recognition_model.ipynb\" target=\"_parent\"><img src=\"https://colab.research.google.com/assets/colab-badge.svg\" alt=\"Open In Colab\"/></a>"
      ]
    },
    {
      "cell_type": "code",
      "metadata": {
        "id": "x4FxBHamx0hw"
      },
      "source": [
        "import keras\r\n",
        "from keras import backend as K\r\n",
        "from keras.layers.core import Dense, Activation\r\n",
        "from keras.optimizers import Adam\r\n",
        "from keras.metrics import categorical_crossentropy\r\n",
        "from keras.preprocessing.image import ImageDataGenerator\r\n",
        "from keras.preprocessing import image\r\n",
        "from keras.models import Model\r\n",
        "from keras.applications import imagenet_utils\r\n",
        "import numpy as np\r\n",
        "from IPython.display import Image"
      ],
      "execution_count": 1,
      "outputs": []
    },
    {
      "cell_type": "code",
      "metadata": {
        "id": "wKCUKRYLCrGM"
      },
      "source": [
        "#select model\r\n",
        "mobile=keras.applications.mobilenet.MobileNet()\r\n"
      ],
      "execution_count": 2,
      "outputs": []
    },
    {
      "cell_type": "code",
      "metadata": {
        "id": "6GILrYCSC_FG"
      },
      "source": [
        "#create function to prepare image\r\n",
        "def prepare_image(file):\r\n",
        "  img_path=''\r\n",
        "  img=image.load_img(img_path+file,target_size=(224,224))\r\n",
        "  img_array=image.img_to_array(img)\r\n",
        "  img_array_expended_dims=np.expand_dims(img_array,axis=0)\r\n",
        "  return keras.applications.mobilenet.preprocess_input(img_array_expended_dims)\r\n"
      ],
      "execution_count": 3,
      "outputs": []
    },
    {
      "cell_type": "code",
      "metadata": {
        "colab": {
          "base_uri": "https://localhost:8080/",
          "height": 257
        },
        "id": "-ymBxRL1D7_W",
        "outputId": "b7904c22-562a-444b-a7f3-9557d33a4939"
      },
      "source": [
        "#input image name\r\n",
        "imgname=input(\"Enter img name : \")\r\n",
        "Image(filename=imgname)"
      ],
      "execution_count": 7,
      "outputs": [
        {
          "output_type": "stream",
          "text": [
            "Enter img name : leo.jpg\n"
          ],
          "name": "stdout"
        },
        {
          "output_type": "execute_result",
          "data": {
            "image/jpeg": "[encoded data removed]",
            "text/plain": [
              "<IPython.core.display.Image object>"
            ]
          },
          "metadata": {
            "tags": []
          },
          "execution_count": 7
        }
      ]
    },
    {
      "cell_type": "code",
      "metadata": {
        "colab": {
          "base_uri": "https://localhost:8080/"
        },
        "id": "K_xhCZvEENNI",
        "outputId": "f7629bd0-02aa-4aa0-bd7f-076254c1e672"
      },
      "source": [
        "#image recognition\r\n",
        "preprocessed_image=prepare_image(imgname)\r\n",
        "predections=mobile.predict(preprocessed_image)\r\n",
        "results=imagenet_utils.decode_predictions(predections)\r\n",
        "results"
      ],
      "execution_count": 8,
      "outputs": [
        {
          "output_type": "execute_result",
          "data": {
            "text/plain": [
              "[[('n02124075', 'Egyptian_cat', 0.24365647),\n",
              "  ('n02123045', 'tabby', 0.14000571),\n",
              "  ('n03124043', 'cowboy_boot', 0.11406985),\n",
              "  ('n03482405', 'hamper', 0.077610664),\n",
              "  ('n04040759', 'radiator', 0.041807648)]]"
            ]
          },
          "metadata": {
            "tags": []
          },
          "execution_count": 8
        }
      ]
    },
    {
      "cell_type": "code",
      "metadata": {
        "id": "OokyAAcpElXo"
      },
      "source": [
        ""
      ],
      "execution_count": 5,
      "outputs": []
    }
  ]
}